{
  "nbformat": 4,
  "nbformat_minor": 0,
  "metadata": {
    "colab": {
      "provenance": []
    },
    "kernelspec": {
      "name": "python3",
      "display_name": "Python 3"
    },
    "language_info": {
      "name": "python"
    }
  },
  "cells": [
    {
      "cell_type": "markdown",
      "source": [
        "#Statistics Basics| Assignment"
      ],
      "metadata": {
        "id": "4Sd_Xi5yY8Zb"
      }
    },
    {
      "cell_type": "markdown",
      "source": [
        "Question 1: What is the difference between descriptive statistics and inferential statistics? Explain with examples.\n",
        "- Answer:\n",
        "  - Descriptive statistics are used to summarize and present data in a meaningful way. They help you understand the basic features of your data.\n",
        "  - For example, if you have a dataset of exam scores, descriptive statistics would involve calculating the mean, median, and standard deviation to summarize the scores.\n",
        "  - Inferential statistics, on the other hand, make inferences and predictions about a population based on a sample of data. They use the sample data to draw conclusions about a larger group.\n",
        "  - For example, inferential statistics could be used to estimate the average exam score for the entire population of students or to test a hypothesis about the effectiveness of a new teaching method.\n",
        "\n",
        "Question 2: What is sampling in statistics? Explain the differences between random and stratified sampling.\n",
        "- Answer:\n",
        "  - Sampling is the process of selecting a subset of a population to study. It's used when it's not feasible or practical to collect data from the entire population.\n",
        "  - Random sampling is a method where every member of the population has an equal chance of being selected for the sample. This helps to ensure that the sample is representative of the population.\n",
        "  - Stratified sampling involves dividing the population into subgroups (strata) based on certain characteristics, and then randomly selecting a sample from each stratum. This ensures that each subgroup is proportionally represented in the sample.\n",
        "\n",
        "Question 3: Define mean, median, and mode. Explain why these measures of central tendency are important.\n",
        "- Answer:\n",
        "  - Mean, median, and mode are all measures of central tendency, which means they describe the \"center\" or \"typical\" value of a dataset.\n",
        "  - Mean: The average of a set of numbers, calculated by summing all the values and dividing by the number of values.\n",
        "  - Median: The middle value in a dataset when the values are arranged in order. If there's an even number of values, the median is the average of the two middle values.\n",
        "  - Mode: The value that appears most frequently in a dataset.\n",
        "\n",
        "Question 4: Explain skewness and kurtosis. What does a positive skew imply about the data?\n",
        "- Answer:\n",
        "  - Skewness and kurtosis are statistical measures that describe the shape of a data distribution.\n",
        "  - Skewness measures the asymmetry of the distribution. A positive skew indicates that the tail on the right side of the distribution is longer or fatter than the left side, meaning there are more values on the lower end and fewer extreme values on the higher end. A negative skew indicates the opposite.\n",
        "  - Kurtosis measures the \"tailedness\" of the distribution. It describes how heavy or light the tails are compared to a normal distribution. Higher kurtosis means the distribution has heavier tails and a sharper peak, while lower kurtosis means the distribution has lighter tails and a flatter peak.\n",
        "  - A positive skew implies that the data has a longer tail on the right side, meaning there are more low values and some high extreme values.\n",
        "\n"
      ],
      "metadata": {
        "id": "UFNEq2t3ZCI2"
      }
    },
    {
      "cell_type": "markdown",
      "source": [
        "Question 5: Implement a Python program to compute the mean, median, and mode of a given list of numbers. numbers = [12, 15, 12, 18, 19, 12, 20, 22, 19, 19, 24, 24, 24, 26, 28] (Include your Python code and output in the code box below.)\n",
        "- Answer:\n"
      ],
      "metadata": {
        "id": "WRaKVzC1ZaE-"
      }
    },
    {
      "cell_type": "code",
      "execution_count": 2,
      "metadata": {
        "colab": {
          "base_uri": "https://localhost:8080/"
        },
        "id": "jjLsirbiY5bo",
        "outputId": "2db54c3b-7d50-4870-ec51-a650b86bda2c"
      },
      "outputs": [
        {
          "output_type": "execute_result",
          "data": {
            "text/plain": [
              "np.float64(19.6)"
            ]
          },
          "metadata": {},
          "execution_count": 2
        }
      ],
      "source": [
        "numbers = [12, 15, 12, 18, 19, 12, 20, 22, 19, 19, 24, 24, 24, 26, 28]\n",
        "import numpy as np\n",
        "import statistics as st\n",
        "np.mean(numbers)"
      ]
    },
    {
      "cell_type": "code",
      "source": [
        "np.median(numbers)"
      ],
      "metadata": {
        "colab": {
          "base_uri": "https://localhost:8080/"
        },
        "id": "GNRVMXpUZ-mo",
        "outputId": "f15cf67c-5032-42d2-97d9-99138851cd2b"
      },
      "execution_count": 3,
      "outputs": [
        {
          "output_type": "execute_result",
          "data": {
            "text/plain": [
              "np.float64(19.0)"
            ]
          },
          "metadata": {},
          "execution_count": 3
        }
      ]
    },
    {
      "cell_type": "code",
      "source": [
        "st.mode(numbers)"
      ],
      "metadata": {
        "colab": {
          "base_uri": "https://localhost:8080/"
        },
        "id": "vb72ED8FaIIl",
        "outputId": "caaa2272-46ec-4671-cdc2-fd3f72f50e3b"
      },
      "execution_count": 4,
      "outputs": [
        {
          "output_type": "execute_result",
          "data": {
            "text/plain": [
              "12"
            ]
          },
          "metadata": {},
          "execution_count": 4
        }
      ]
    },
    {
      "cell_type": "markdown",
      "source": [
        "Question 6: Compute the covariance and correlation coefficient between the following two datasets provided as lists in Python:\n",
        "list_x = [10, 20, 30, 40, 50]\n",
        "list_y = [15, 25, 35, 45, 60]\n",
        " (Include your Python code and output in the code box below.)\n",
        "- Answer:\n"
      ],
      "metadata": {
        "id": "G5fbUFvGaQrZ"
      }
    },
    {
      "cell_type": "code",
      "source": [
        "import numpy as np\n",
        "list_x = np.array([10, 20, 30, 40, 50])\n",
        "list_y = np.array([15, 25, 35, 45, 60])\n",
        "\n",
        "X = np.column_stack((list_x, list_y))\n",
        "# Covariance matrix\n",
        "cov_matrix = np.cov(X, rowvar=False)\n",
        "cov_xy = cov_matrix[0, 1]\n",
        "# Correlation matrix\n",
        "corr_matrix = np.corrcoef(X, rowvar=False)\n",
        "r = corr_matrix[0, 1]\n",
        "print(\"Covariance (X,Y):\", cov_xy)\n",
        "print(\"Correlation r: \", r)"
      ],
      "metadata": {
        "colab": {
          "base_uri": "https://localhost:8080/"
        },
        "id": "RbgQVkZtaLXo",
        "outputId": "b9df40e3-00e6-4564-f57b-19fc30a9db15"
      },
      "execution_count": 5,
      "outputs": [
        {
          "output_type": "stream",
          "name": "stdout",
          "text": [
            "Covariance (X,Y): 275.0\n",
            "Correlation r:  0.995893206467704\n"
          ]
        }
      ]
    },
    {
      "cell_type": "markdown",
      "source": [
        "Question 7: Write a Python script to draw a boxplot for the following numeric list and identify its outliers. Explain the result:\n",
        "data = [12, 14, 14, 15, 18, 19, 19, 21, 22, 22, 23, 23, 24, 26, 29, 35]\n",
        "(Include your Python code and output in the code box below.)\n",
        "- Answer:"
      ],
      "metadata": {
        "id": "HI3ACL5za_XP"
      }
    },
    {
      "cell_type": "code",
      "source": [
        "import matplotlib.pyplot as plt\n",
        "import seaborn as sns\n",
        "\n",
        "data = [12, 14, 14, 15, 18, 19, 19, 21, 22, 22, 23, 23, 24, 26, 29, 35]\n",
        "\n",
        "plt.figure(figsize=(8, 4))\n",
        "sns.boxplot(data=data, orient='h', color='skyblue')\n",
        "\n",
        "plt.title(\"Boxplot of Numeric Data with Outlier Detection\")\n",
        "plt.xlabel(\"Value\")\n",
        "\n",
        "plt.show()\n"
      ],
      "metadata": {
        "colab": {
          "base_uri": "https://localhost:8080/",
          "height": 410
        },
        "id": "w0A0bB75a6mw",
        "outputId": "6e3dc307-7bb6-4584-9870-62200358f874"
      },
      "execution_count": 6,
      "outputs": [
        {
          "output_type": "display_data",
          "data": {
            "text/plain": [
              "<Figure size 800x400 with 1 Axes>"
            ],
            "image/png": "[encoded data removed]"
          },
          "metadata": {}
        }
      ]
    },
    {
      "cell_type": "markdown",
      "source": [
        "Question 8: You are working as a data analyst in an e-commerce company. The\n",
        "marketing team wants to know if there is a relationship between advertising spend and\n",
        "daily sales.\n",
        "● Explain how you would use covariance and correlation to explore this\n",
        "relationship.\n",
        "● Write Python code to compute the correlation between the two lists:\n",
        "advertising_spend = [200, 250, 300, 400, 500]\n",
        "daily_sales = [2200, 2450, 2750, 3200, 4000]\n",
        "(Include your Python code and output in the code box below.)\n",
        "- Answer:\n"
      ],
      "metadata": {
        "id": "dxka0_yIbxpF"
      }
    },
    {
      "cell_type": "code",
      "source": [
        "import numpy as np\n",
        "\n",
        "advertising_spend = [200, 250, 300, 400, 500]\n",
        "daily_sales = [2200, 2450, 2750, 3200, 4000]\n",
        "\n",
        "cov_matrix = np.cov(advertising_spend, daily_sales)\n",
        "covariance = cov_matrix[0][1]\n",
        "\n",
        "correlation = np.corrcoef(advertising_spend, daily_sales)[0][1]\n",
        "\n",
        "print(f\"Covariance: {covariance}\")\n",
        "print(f\"Correlation Coefficient: {correlation:.2f}\")\n"
      ],
      "metadata": {
        "colab": {
          "base_uri": "https://localhost:8080/"
        },
        "id": "p50pLWpObWTM",
        "outputId": "32248ea4-6565-4c3f-8c12-e82232603abf"
      },
      "execution_count": 7,
      "outputs": [
        {
          "output_type": "stream",
          "name": "stdout",
          "text": [
            "Covariance: 84875.0\n",
            "Correlation Coefficient: 0.99\n"
          ]
        }
      ]
    },
    {
      "cell_type": "markdown",
      "source": [
        "Question 9: Your team has collected customer satisfaction survey data on a scale of\n",
        "1-10 and wants to understand its distribution before launching a new product.\n",
        "● Explain which summary statistics and visualizations (e.g. mean, standard\n",
        "deviation, histogram) you’d use.\n",
        "● Write Python code to create a histogram using Matplotlib for the survey data:\n",
        "survey_scores = [7, 8, 5, 9, 6, 7, 8, 9, 10, 4, 7, 6, 9, 8, 7]\n",
        "(Include your Python code and output in the code box below.)\n",
        "- Answer:"
      ],
      "metadata": {
        "id": "-VAGiRS5cDzm"
      }
    },
    {
      "cell_type": "markdown",
      "source": [
        "\n",
        "- Summary Statistics:\n",
        "\n",
        "  - Mean: It provides the average satisfaction score.\n",
        "  - Median: It indicates the middle value, useful for identifying skewness.\n",
        "  - Standard Deviation: It Measures the spread or variability of the scores.\n",
        "  - Minimum and Maximum: It Show the range of scores.\n",
        "  - Quartiles (25th, 50th, 75th percentiles): It Help understand the distribution's shape and identify potential outliers.\n",
        "  - Skewness: It Determines if the data is symmetrical, skewed to the left (negative skew), or skewed to the right (positive skew).\n",
        "  - Kurtosis: It Measures the \"tailedness\" of the distribution.\n",
        "\n",
        "- Visualizations:\n",
        "\n",
        "  - Histogram: Shows the frequency distribution of scores, indicating the shape (e.g., normal, skewed) and central tendency.\n",
        "  - Box Plot: Displays the median, quartiles, and potential outliers, offering a clear view of the data's spread and skewness."
      ],
      "metadata": {
        "id": "stftvWVmdCH4"
      }
    },
    {
      "cell_type": "code",
      "source": [
        "import matplotlib.pyplot as plt\n",
        "import numpy as np\n",
        "\n",
        "survey_scores = [7, 8, 5, 9, 6, 7, 8, 9, 10, 4, 7, 6, 9, 8, 7]\n",
        "\n",
        "plt.hist(survey_scores, bins=10, edgecolor='black')\n",
        "plt.title('Customer Satisfaction Survey')\n",
        "plt.xlabel('Satisfaction Score')\n",
        "plt.ylabel('Frequency')\n",
        "plt.xticks(np.arange(1, 11))\n",
        "plt.show()"
      ],
      "metadata": {
        "colab": {
          "base_uri": "https://localhost:8080/",
          "height": 472
        },
        "id": "c2BexVrkdxQe",
        "outputId": "30bd704f-1ae7-48f4-8fa1-bfe80da1be43"
      },
      "execution_count": 10,
      "outputs": [
        {
          "output_type": "display_data",
          "data": {
            "text/plain": [
              "<Figure size 640x480 with 1 Axes>"
            ],
            "image/png": "[encoded data removed]"
          },
          "metadata": {}
        }
      ]
    }
  ]
}